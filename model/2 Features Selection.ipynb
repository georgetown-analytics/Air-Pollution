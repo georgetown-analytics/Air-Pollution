{
 "cells": [
  {
   "cell_type": "markdown",
   "metadata": {},
   "source": [
    "# Feature selection\n",
    "\n",
    " * We decided to keep all feature at first\n",
    " * Just removing the not used ones as station id, type of station, sensor number, location X and Y, datetime (because it is transforme in 5 other features with COS and SIN of year position and day position + day number of the week: See data wrangling notebook in data subfolder). \n",
    " \n",
    " ### Notes: this is a summary of our conclusions about features selections that were made during model evaluation\n"
   ]
  },
  {
   "cell_type": "code",
   "execution_count": 9,
   "metadata": {},
   "outputs": [
    {
     "name": "stderr",
     "output_type": "stream",
     "text": [
      "c:\\users\\colla\\appdata\\local\\programs\\python\\python38\\lib\\site-packages\\sklearn\\utils\\deprecation.py:144: FutureWarning: The sklearn.metrics.classification module is  deprecated in version 0.22 and will be removed in version 0.24. The corresponding classes / functions should instead be imported from sklearn.metrics. Anything that cannot be imported from sklearn.metrics is now part of the private API.\n",
      "  warnings.warn(message, FutureWarning)\n"
     ]
    }
   ],
   "source": [
    "import pandas as pd\n",
    "import numpy as np\n",
    "from yellowbrick.target import ClassBalance\n",
    "\n"
   ]
  },
  {
   "cell_type": "code",
   "execution_count": 2,
   "metadata": {},
   "outputs": [],
   "source": [
    "# Files\n",
    "data = \"eda.csv\"\n",
    "pd.set_option('display.max_columns', None)\n",
    "df = pd.read_csv(data)"
   ]
  },
  {
   "cell_type": "code",
   "execution_count": 7,
   "metadata": {},
   "outputs": [],
   "source": [
    "features = df[[\n",
    "    'population', \n",
    "    'dist-mroads', \n",
    "    'dist-setl', \n",
    "    'dist-coast', \n",
    "    'dist-forest', \n",
    "    'slope', \n",
    "    'elevation', \n",
    "    'dayofweek', \n",
    "    'sin_day', \n",
    "    'cos_day',\n",
    "    'sin_year', \n",
    "    'cos_year', \n",
    "    'TEMP', \n",
    "    'cos_wind', \n",
    "    'sin_wind', \n",
    "    'Wind-Rate', \n",
    "    'DEW', \n",
    "    'SKY', \n",
    "    'VIS', \n",
    "    'ATM'\n",
    "]].astype(np.float64)\n",
    "\n",
    "features.loc[:,'dayofweek'] = features['dayofweek'].astype('category')\n",
    "\n",
    "labels = df[[\n",
    "    'pm25',\n",
    "    'AQI_VALUE', #pm25 transformed using EPA methodology See DATA Wrangling notebook\n",
    "    'AQI_class'  #pm25 transformed into EPA categorical class  See DATA Wrangling notebook\n",
    "]]\n",
    "\n"
   ]
  },
  {
   "cell_type": "code",
   "execution_count": 10,
   "metadata": {},
   "outputs": [
    {
     "data": {
      "image/png": "[encoded data removed]",
      "text/plain": [
       "<Figure size 576x396 with 1 Axes>"
      ]
     },
     "metadata": {},
     "output_type": "display_data"
    },
    {
     "data": {
      "text/plain": [
       "<matplotlib.axes._subplots.AxesSubplot at 0x2812e72c130>"
      ]
     },
     "execution_count": 10,
     "metadata": {},
     "output_type": "execute_result"
    }
   ],
   "source": [
    "# Instantiate the visualizer\n",
    "visualizer = ClassBalance(\n",
    "    #labels=[\"Good\", \"USG\", \"Moderate\", \"Unhealthy\", \"Very unhealthy\", \"Hazardous\"], size=(1080, 720)\n",
    ")\n",
    "\n",
    "visualizer.fit(df['AQI_class'].values)\n",
    "visualizer.show()"
   ]
  },
  {
   "cell_type": "markdown",
   "metadata": {},
   "source": [
    "### Class balance show us that labels are not evently ditributed \n",
    "\n",
    "* There is a vast majority of Good air quality\n",
    "* A few moderate 15/20% and nearby none worse air quality\n",
    "\n",
    "### We concluded that was a better idea to predict a binary classifyer \"Is Air Quality Bad\" ?\n",
    "\n"
   ]
  },
  {
   "cell_type": "code",
   "execution_count": 12,
   "metadata": {},
   "outputs": [],
   "source": [
    "labels.loc[:,\"polluted\"] = (labels.loc[:,\"AQI_class\"] != \"Good\")"
   ]
  },
  {
   "cell_type": "markdown",
   "metadata": {},
   "source": [
    "## Dimension reduction\n",
    "\n",
    " * X/Y After several iterations of model analysis and discussions with tutors we were told that considering X Y features as sumarizing all location dependant feature was a comonly accepted feature reduction method.\n",
    " * It's was simplifying the model and our data product app model by no requiring to retrieve location feature dependent from the user location.\n",
    " \n",
    " ####We made then a trade of feature X and Y replacing     \n",
    " * 'population',     \n",
    " * 'dist-mroads',     \n",
    " * 'dist-setl',     \n",
    " * 'dist-coast', \n",
    " * 'dist-forest', \n",
    " * 'slope', \n",
    " * 'elevation'\n",
    " \n",
    " \n",
    " **So our features became:**\n"
   ]
  },
  {
   "cell_type": "code",
   "execution_count": null,
   "metadata": {},
   "outputs": [],
   "source": [
    "features = df[[\n",
    "    'x', \n",
    "    'y',\n",
    "    'dayofweek', \n",
    "    'sin_day', \n",
    "    'cos_day',\n",
    "    'sin_year', \n",
    "    'cos_year', \n",
    "    'TEMP', \n",
    "    'cos_wind', \n",
    "    'sin_wind', \n",
    "    'Wind-Rate', \n",
    "    'DEW', \n",
    "    'SKY', \n",
    "    'VIS', \n",
    "    'ATM'\n",
    "]].astype(np.float64)\n",
    "\n",
    "features.loc[:,'dayofweek'] = features['dayofweek'].astype('category')\n",
    "\n",
    "labels = df[[\n",
    "    'pm25',\n",
    "    'AQI_VALUE', #pm25 transformed using EPA methodology See DATA Wrangling notebook\n",
    "    'AQI_class'  #pm25 transformed into EPA categorical class  See DATA Wrangling notebook\n",
    "]]\n",
    "labels.loc[:,\"polluted\"] = (labels.loc[:,\"AQI_class\"] != \"Good\")"
   ]
  },
  {
   "cell_type": "markdown",
   "metadata": {},
   "source": [
    "# Train Test Split Data\n",
    "\n",
    "* Because we have few locations / stations in our data versus lot of air quality measurements.\n",
    "* We concluded that was a risk of overfitting the data to train and test the data with same stations and we opted for a randomized groundstations split for testing and training our data\n",
    "\n",
    "**Using custom method below:**\n"
   ]
  },
  {
   "cell_type": "code",
   "execution_count": 13,
   "metadata": {},
   "outputs": [],
   "source": [
    "import random\n",
    "\n",
    "gs = df[['station_id']]\n",
    "\n",
    "def tts_gs(X, y, gs, test_size):\n",
    "    stations = gs[\"station_id\"].unique()\n",
    "    nb_stations = len(stations) * test_size\n",
    "    my_randoms = random.sample(list(stations), int(nb_stations))\n",
    "    filters = gs[\"station_id\"].isin(my_randoms)\n",
    "    print('Substations selected for testing are : ')\n",
    "    print(my_randoms)\n",
    "    return X[~filters], X[filters], y[~filters], y[filters]\n"
   ]
  },
  {
   "cell_type": "code",
   "execution_count": null,
   "metadata": {},
   "outputs": [],
   "source": []
  }
 ],
 "metadata": {
  "kernelspec": {
   "display_name": "Python 3",
   "language": "python",
   "name": "python3"
  },
  "language_info": {
   "codemirror_mode": {
    "name": "ipython",
    "version": 3
   },
   "file_extension": ".py",
   "mimetype": "text/x-python",
   "name": "python",
   "nbconvert_exporter": "python",
   "pygments_lexer": "ipython3",
   "version": "3.8.2"
  }
 },
 "nbformat": 4,
 "nbformat_minor": 4
}
