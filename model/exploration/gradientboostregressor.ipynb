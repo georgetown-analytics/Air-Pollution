{
 "cells": [
  {
   "cell_type": "code",
   "execution_count": 3,
   "metadata": {},
   "outputs": [],
   "source": [
    "import os\n",
    "import pandas as pd\n",
    "import numpy as np\n",
    "\n",
    "from sklearn.metrics import f1_score\n",
    "from sklearn.pipeline import Pipeline\n",
    "from sklearn.svm import LinearSVC, NuSVC, SVC\n",
    "from sklearn.neighbors import KNeighborsClassifier\n",
    "from sklearn.ensemble import GradientBoostingRegressor\n",
    "from sklearn.model_selection import train_test_split as tts\n",
    "from sklearn.preprocessing import OneHotEncoder, LabelEncoder\n",
    "from sklearn.linear_model import LogisticRegressionCV, LogisticRegression, SGDClassifier\n",
    "from sklearn.ensemble import BaggingClassifier, ExtraTreesClassifier, RandomForestClassifier\n",
    "\n",
    "from yellowbrick.classifier import ClassificationReport"
   ]
  },
  {
   "cell_type": "code",
   "execution_count": 4,
   "metadata": {},
   "outputs": [],
   "source": [
    "%matplotlib inline\n",
    "pd.set_option('display.max_columns', 55)"
   ]
  },
  {
   "cell_type": "code",
   "execution_count": 5,
   "metadata": {},
   "outputs": [],
   "source": [
    "#read in csv\n",
    "df = pd.read_csv(\"bigtable.csv\")"
   ]
  },
  {
   "cell_type": "code",
   "execution_count": 6,
   "metadata": {},
   "outputs": [
    {
     "data": {
      "text/html": [
       "<div>\n",
       "<style scoped>\n",
       "    .dataframe tbody tr th:only-of-type {\n",
       "        vertical-align: middle;\n",
       "    }\n",
       "\n",
       "    .dataframe tbody tr th {\n",
       "        vertical-align: top;\n",
       "    }\n",
       "\n",
       "    .dataframe thead th {\n",
       "        text-align: right;\n",
       "    }\n",
       "</style>\n",
       "<table border=\"1\" class=\"dataframe\">\n",
       "  <thead>\n",
       "    <tr style=\"text-align: right;\">\n",
       "      <th></th>\n",
       "      <th>datetime</th>\n",
       "      <th>pm25</th>\n",
       "      <th>type</th>\n",
       "      <th>sensor</th>\n",
       "      <th>station_id</th>\n",
       "      <th>x</th>\n",
       "      <th>y</th>\n",
       "      <th>population</th>\n",
       "      <th>dist-mroads</th>\n",
       "      <th>dist-setl</th>\n",
       "      <th>dist-coast</th>\n",
       "      <th>dist-forest</th>\n",
       "      <th>slope</th>\n",
       "      <th>elevation</th>\n",
       "      <th>dayofweek</th>\n",
       "      <th>sin_day</th>\n",
       "      <th>cos_day</th>\n",
       "      <th>sin_year</th>\n",
       "      <th>cos_year</th>\n",
       "      <th>TEMP</th>\n",
       "      <th>WIND</th>\n",
       "      <th>DEW</th>\n",
       "      <th>SKY</th>\n",
       "      <th>VIS</th>\n",
       "      <th>ATM</th>\n",
       "      <th>AQI_class</th>\n",
       "      <th>AQI_VALUE</th>\n",
       "    </tr>\n",
       "  </thead>\n",
       "  <tbody>\n",
       "    <tr>\n",
       "      <th>0</th>\n",
       "      <td>2019-05-08 15:00:00+00:00</td>\n",
       "      <td>52.33</td>\n",
       "      <td>PurpleAir</td>\n",
       "      <td>B</td>\n",
       "      <td>14th &amp; S ST NW B</td>\n",
       "      <td>38.913805</td>\n",
       "      <td>-77.03275</td>\n",
       "      <td>54.04969</td>\n",
       "      <td>0.072</td>\n",
       "      <td>-1.541</td>\n",
       "      <td>2.792</td>\n",
       "      <td>1.596</td>\n",
       "      <td>1.0</td>\n",
       "      <td>29.0</td>\n",
       "      <td>2</td>\n",
       "      <td>-0.707107</td>\n",
       "      <td>-7.071068e-01</td>\n",
       "      <td>0.806480</td>\n",
       "      <td>-0.591261</td>\n",
       "      <td>211.1</td>\n",
       "      <td>36.0</td>\n",
       "      <td>161.1</td>\n",
       "      <td>99999.0</td>\n",
       "      <td>16000.0</td>\n",
       "      <td>10218.1</td>\n",
       "      <td>USG</td>\n",
       "      <td>123.860000</td>\n",
       "    </tr>\n",
       "    <tr>\n",
       "      <th>1</th>\n",
       "      <td>2019-05-09 15:00:00+00:00</td>\n",
       "      <td>43.76</td>\n",
       "      <td>PurpleAir</td>\n",
       "      <td>B</td>\n",
       "      <td>14th &amp; S ST NW B</td>\n",
       "      <td>38.913805</td>\n",
       "      <td>-77.03275</td>\n",
       "      <td>54.04969</td>\n",
       "      <td>0.072</td>\n",
       "      <td>-1.541</td>\n",
       "      <td>2.792</td>\n",
       "      <td>1.596</td>\n",
       "      <td>1.0</td>\n",
       "      <td>29.0</td>\n",
       "      <td>3</td>\n",
       "      <td>-0.707107</td>\n",
       "      <td>-7.071068e-01</td>\n",
       "      <td>0.796183</td>\n",
       "      <td>-0.605056</td>\n",
       "      <td>200.1</td>\n",
       "      <td>36.0</td>\n",
       "      <td>167.1</td>\n",
       "      <td>99999.0</td>\n",
       "      <td>16000.0</td>\n",
       "      <td>10213.1</td>\n",
       "      <td>USG</td>\n",
       "      <td>106.720000</td>\n",
       "    </tr>\n",
       "    <tr>\n",
       "      <th>2</th>\n",
       "      <td>2019-05-16 16:00:00+00:00</td>\n",
       "      <td>11.41</td>\n",
       "      <td>PurpleAir</td>\n",
       "      <td>B</td>\n",
       "      <td>14th &amp; S ST NW B</td>\n",
       "      <td>38.913805</td>\n",
       "      <td>-77.03275</td>\n",
       "      <td>54.04969</td>\n",
       "      <td>0.072</td>\n",
       "      <td>-1.541</td>\n",
       "      <td>2.792</td>\n",
       "      <td>1.596</td>\n",
       "      <td>1.0</td>\n",
       "      <td>29.0</td>\n",
       "      <td>3</td>\n",
       "      <td>-0.866025</td>\n",
       "      <td>-5.000000e-01</td>\n",
       "      <td>0.717677</td>\n",
       "      <td>-0.696376</td>\n",
       "      <td>244.5</td>\n",
       "      <td>36.0</td>\n",
       "      <td>106.5</td>\n",
       "      <td>22000.0</td>\n",
       "      <td>16093.0</td>\n",
       "      <td>10131.5</td>\n",
       "      <td>Good</td>\n",
       "      <td>37.045455</td>\n",
       "    </tr>\n",
       "    <tr>\n",
       "      <th>3</th>\n",
       "      <td>2019-05-16 17:00:00+00:00</td>\n",
       "      <td>10.24</td>\n",
       "      <td>PurpleAir</td>\n",
       "      <td>B</td>\n",
       "      <td>14th &amp; S ST NW B</td>\n",
       "      <td>38.913805</td>\n",
       "      <td>-77.03275</td>\n",
       "      <td>54.04969</td>\n",
       "      <td>0.072</td>\n",
       "      <td>-1.541</td>\n",
       "      <td>2.792</td>\n",
       "      <td>1.596</td>\n",
       "      <td>1.0</td>\n",
       "      <td>29.0</td>\n",
       "      <td>3</td>\n",
       "      <td>-0.965926</td>\n",
       "      <td>-2.588190e-01</td>\n",
       "      <td>0.717677</td>\n",
       "      <td>-0.696376</td>\n",
       "      <td>250.5</td>\n",
       "      <td>57.0</td>\n",
       "      <td>106.5</td>\n",
       "      <td>22000.0</td>\n",
       "      <td>16093.0</td>\n",
       "      <td>10126.5</td>\n",
       "      <td>Good</td>\n",
       "      <td>33.246753</td>\n",
       "    </tr>\n",
       "    <tr>\n",
       "      <th>4</th>\n",
       "      <td>2019-05-16 18:00:00+00:00</td>\n",
       "      <td>9.45</td>\n",
       "      <td>PurpleAir</td>\n",
       "      <td>B</td>\n",
       "      <td>14th &amp; S ST NW B</td>\n",
       "      <td>38.913805</td>\n",
       "      <td>-77.03275</td>\n",
       "      <td>54.04969</td>\n",
       "      <td>0.072</td>\n",
       "      <td>-1.541</td>\n",
       "      <td>2.792</td>\n",
       "      <td>1.596</td>\n",
       "      <td>1.0</td>\n",
       "      <td>29.0</td>\n",
       "      <td>3</td>\n",
       "      <td>-1.000000</td>\n",
       "      <td>-1.836970e-16</td>\n",
       "      <td>0.717677</td>\n",
       "      <td>-0.696376</td>\n",
       "      <td>250.1</td>\n",
       "      <td>57.0</td>\n",
       "      <td>106.1</td>\n",
       "      <td>22000.0</td>\n",
       "      <td>16000.0</td>\n",
       "      <td>10126.1</td>\n",
       "      <td>Good</td>\n",
       "      <td>30.681818</td>\n",
       "    </tr>\n",
       "  </tbody>\n",
       "</table>\n",
       "</div>"
      ],
      "text/plain": [
       "                    datetime   pm25       type sensor        station_id  \\\n",
       "0  2019-05-08 15:00:00+00:00  52.33  PurpleAir      B  14th & S ST NW B   \n",
       "1  2019-05-09 15:00:00+00:00  43.76  PurpleAir      B  14th & S ST NW B   \n",
       "2  2019-05-16 16:00:00+00:00  11.41  PurpleAir      B  14th & S ST NW B   \n",
       "3  2019-05-16 17:00:00+00:00  10.24  PurpleAir      B  14th & S ST NW B   \n",
       "4  2019-05-16 18:00:00+00:00   9.45  PurpleAir      B  14th & S ST NW B   \n",
       "\n",
       "           x         y  population  dist-mroads  dist-setl  dist-coast  \\\n",
       "0  38.913805 -77.03275    54.04969        0.072     -1.541       2.792   \n",
       "1  38.913805 -77.03275    54.04969        0.072     -1.541       2.792   \n",
       "2  38.913805 -77.03275    54.04969        0.072     -1.541       2.792   \n",
       "3  38.913805 -77.03275    54.04969        0.072     -1.541       2.792   \n",
       "4  38.913805 -77.03275    54.04969        0.072     -1.541       2.792   \n",
       "\n",
       "   dist-forest  slope  elevation  dayofweek   sin_day       cos_day  sin_year  \\\n",
       "0        1.596    1.0       29.0          2 -0.707107 -7.071068e-01  0.806480   \n",
       "1        1.596    1.0       29.0          3 -0.707107 -7.071068e-01  0.796183   \n",
       "2        1.596    1.0       29.0          3 -0.866025 -5.000000e-01  0.717677   \n",
       "3        1.596    1.0       29.0          3 -0.965926 -2.588190e-01  0.717677   \n",
       "4        1.596    1.0       29.0          3 -1.000000 -1.836970e-16  0.717677   \n",
       "\n",
       "   cos_year   TEMP  WIND    DEW      SKY      VIS      ATM AQI_class  \\\n",
       "0 -0.591261  211.1  36.0  161.1  99999.0  16000.0  10218.1       USG   \n",
       "1 -0.605056  200.1  36.0  167.1  99999.0  16000.0  10213.1       USG   \n",
       "2 -0.696376  244.5  36.0  106.5  22000.0  16093.0  10131.5      Good   \n",
       "3 -0.696376  250.5  57.0  106.5  22000.0  16093.0  10126.5      Good   \n",
       "4 -0.696376  250.1  57.0  106.1  22000.0  16000.0  10126.1      Good   \n",
       "\n",
       "    AQI_VALUE  \n",
       "0  123.860000  \n",
       "1  106.720000  \n",
       "2   37.045455  \n",
       "3   33.246753  \n",
       "4   30.681818  "
      ]
     },
     "execution_count": 6,
     "metadata": {},
     "output_type": "execute_result"
    }
   ],
   "source": [
    "df.head()"
   ]
  },
  {
   "cell_type": "code",
   "execution_count": 7,
   "metadata": {},
   "outputs": [
    {
     "data": {
      "text/plain": [
       "array(['PurpleAir', 'AirNow'], dtype=object)"
      ]
     },
     "execution_count": 7,
     "metadata": {},
     "output_type": "execute_result"
    }
   ],
   "source": [
    "df['type'].unique()"
   ]
  },
  {
   "cell_type": "code",
   "execution_count": 8,
   "metadata": {},
   "outputs": [
    {
     "data": {
      "text/plain": [
       "'2019-01-01 00:00:00+00:00'"
      ]
     },
     "execution_count": 8,
     "metadata": {},
     "output_type": "execute_result"
    }
   ],
   "source": [
    "df['datetime'].min()"
   ]
  },
  {
   "cell_type": "code",
   "execution_count": 9,
   "metadata": {},
   "outputs": [
    {
     "data": {
      "text/plain": [
       "'2020-01-01 23:00:00+00:00'"
      ]
     },
     "execution_count": 9,
     "metadata": {},
     "output_type": "execute_result"
    }
   ],
   "source": [
    "df['datetime'].max()"
   ]
  },
  {
   "cell_type": "code",
   "execution_count": 10,
   "metadata": {},
   "outputs": [],
   "source": [
    "def clean_dataset(df):\n",
    "    assert isinstance(df, pd.DataFrame), \"df needs to be a pd.DataFrame\"\n",
    "    df.dropna(inplace=True)\n",
    "    indices_to_keep = ~df.isin([np.nan, np.inf, -np.inf]).any(1)\n",
    "    return df[indices_to_keep]#.astype(np.float64)\n",
    "\n",
    "df = clean_dataset(df).reset_index()\n",
    "\n",
    "features = df[[\n",
    "    'population', \n",
    "    'dist-mroads', \n",
    "    'dist-setl', \n",
    "    'dist-coast', \n",
    "    'dist-forest', \n",
    "    'slope', \n",
    "    'elevation', \n",
    "    'dayofweek', \n",
    "    'sin_day', \n",
    "    'cos_day',\n",
    "    'sin_year', \n",
    "    'cos_year', \n",
    "    'TEMP', \n",
    "    'WIND', \n",
    "    'DEW', \n",
    "    'SKY', \n",
    "    'VIS', \n",
    "    'ATM'\n",
    "]].astype(np.float64)\n",
    "\n",
    "gs = df[['station_id']]\n",
    "\n",
    "y=df['pm25'].values\n",
    "X=features"
   ]
  },
  {
   "cell_type": "code",
   "execution_count": 11,
   "metadata": {},
   "outputs": [
    {
     "data": {
      "text/html": [
       "<div>\n",
       "<style scoped>\n",
       "    .dataframe tbody tr th:only-of-type {\n",
       "        vertical-align: middle;\n",
       "    }\n",
       "\n",
       "    .dataframe tbody tr th {\n",
       "        vertical-align: top;\n",
       "    }\n",
       "\n",
       "    .dataframe thead th {\n",
       "        text-align: right;\n",
       "    }\n",
       "</style>\n",
       "<table border=\"1\" class=\"dataframe\">\n",
       "  <thead>\n",
       "    <tr style=\"text-align: right;\">\n",
       "      <th></th>\n",
       "      <th>population</th>\n",
       "      <th>dist-mroads</th>\n",
       "      <th>dist-setl</th>\n",
       "      <th>dist-coast</th>\n",
       "      <th>dist-forest</th>\n",
       "      <th>slope</th>\n",
       "      <th>elevation</th>\n",
       "      <th>dayofweek</th>\n",
       "      <th>sin_day</th>\n",
       "      <th>cos_day</th>\n",
       "      <th>sin_year</th>\n",
       "      <th>cos_year</th>\n",
       "      <th>TEMP</th>\n",
       "      <th>WIND</th>\n",
       "      <th>DEW</th>\n",
       "      <th>SKY</th>\n",
       "      <th>VIS</th>\n",
       "      <th>ATM</th>\n",
       "    </tr>\n",
       "  </thead>\n",
       "  <tbody>\n",
       "    <tr>\n",
       "      <th>0</th>\n",
       "      <td>54.04969</td>\n",
       "      <td>0.072</td>\n",
       "      <td>-1.541</td>\n",
       "      <td>2.792</td>\n",
       "      <td>1.596</td>\n",
       "      <td>1.0</td>\n",
       "      <td>29.0</td>\n",
       "      <td>2.0</td>\n",
       "      <td>-0.707107</td>\n",
       "      <td>-7.071068e-01</td>\n",
       "      <td>0.806480</td>\n",
       "      <td>-0.591261</td>\n",
       "      <td>211.1</td>\n",
       "      <td>36.0</td>\n",
       "      <td>161.1</td>\n",
       "      <td>99999.0</td>\n",
       "      <td>16000.0</td>\n",
       "      <td>10218.1</td>\n",
       "    </tr>\n",
       "    <tr>\n",
       "      <th>1</th>\n",
       "      <td>54.04969</td>\n",
       "      <td>0.072</td>\n",
       "      <td>-1.541</td>\n",
       "      <td>2.792</td>\n",
       "      <td>1.596</td>\n",
       "      <td>1.0</td>\n",
       "      <td>29.0</td>\n",
       "      <td>3.0</td>\n",
       "      <td>-0.707107</td>\n",
       "      <td>-7.071068e-01</td>\n",
       "      <td>0.796183</td>\n",
       "      <td>-0.605056</td>\n",
       "      <td>200.1</td>\n",
       "      <td>36.0</td>\n",
       "      <td>167.1</td>\n",
       "      <td>99999.0</td>\n",
       "      <td>16000.0</td>\n",
       "      <td>10213.1</td>\n",
       "    </tr>\n",
       "    <tr>\n",
       "      <th>2</th>\n",
       "      <td>54.04969</td>\n",
       "      <td>0.072</td>\n",
       "      <td>-1.541</td>\n",
       "      <td>2.792</td>\n",
       "      <td>1.596</td>\n",
       "      <td>1.0</td>\n",
       "      <td>29.0</td>\n",
       "      <td>3.0</td>\n",
       "      <td>-0.866025</td>\n",
       "      <td>-5.000000e-01</td>\n",
       "      <td>0.717677</td>\n",
       "      <td>-0.696376</td>\n",
       "      <td>244.5</td>\n",
       "      <td>36.0</td>\n",
       "      <td>106.5</td>\n",
       "      <td>22000.0</td>\n",
       "      <td>16093.0</td>\n",
       "      <td>10131.5</td>\n",
       "    </tr>\n",
       "    <tr>\n",
       "      <th>3</th>\n",
       "      <td>54.04969</td>\n",
       "      <td>0.072</td>\n",
       "      <td>-1.541</td>\n",
       "      <td>2.792</td>\n",
       "      <td>1.596</td>\n",
       "      <td>1.0</td>\n",
       "      <td>29.0</td>\n",
       "      <td>3.0</td>\n",
       "      <td>-0.965926</td>\n",
       "      <td>-2.588190e-01</td>\n",
       "      <td>0.717677</td>\n",
       "      <td>-0.696376</td>\n",
       "      <td>250.5</td>\n",
       "      <td>57.0</td>\n",
       "      <td>106.5</td>\n",
       "      <td>22000.0</td>\n",
       "      <td>16093.0</td>\n",
       "      <td>10126.5</td>\n",
       "    </tr>\n",
       "    <tr>\n",
       "      <th>4</th>\n",
       "      <td>54.04969</td>\n",
       "      <td>0.072</td>\n",
       "      <td>-1.541</td>\n",
       "      <td>2.792</td>\n",
       "      <td>1.596</td>\n",
       "      <td>1.0</td>\n",
       "      <td>29.0</td>\n",
       "      <td>3.0</td>\n",
       "      <td>-1.000000</td>\n",
       "      <td>-1.836970e-16</td>\n",
       "      <td>0.717677</td>\n",
       "      <td>-0.696376</td>\n",
       "      <td>250.1</td>\n",
       "      <td>57.0</td>\n",
       "      <td>106.1</td>\n",
       "      <td>22000.0</td>\n",
       "      <td>16000.0</td>\n",
       "      <td>10126.1</td>\n",
       "    </tr>\n",
       "  </tbody>\n",
       "</table>\n",
       "</div>"
      ],
      "text/plain": [
       "   population  dist-mroads  dist-setl  dist-coast  dist-forest  slope  \\\n",
       "0    54.04969        0.072     -1.541       2.792        1.596    1.0   \n",
       "1    54.04969        0.072     -1.541       2.792        1.596    1.0   \n",
       "2    54.04969        0.072     -1.541       2.792        1.596    1.0   \n",
       "3    54.04969        0.072     -1.541       2.792        1.596    1.0   \n",
       "4    54.04969        0.072     -1.541       2.792        1.596    1.0   \n",
       "\n",
       "   elevation  dayofweek   sin_day       cos_day  sin_year  cos_year   TEMP  \\\n",
       "0       29.0        2.0 -0.707107 -7.071068e-01  0.806480 -0.591261  211.1   \n",
       "1       29.0        3.0 -0.707107 -7.071068e-01  0.796183 -0.605056  200.1   \n",
       "2       29.0        3.0 -0.866025 -5.000000e-01  0.717677 -0.696376  244.5   \n",
       "3       29.0        3.0 -0.965926 -2.588190e-01  0.717677 -0.696376  250.5   \n",
       "4       29.0        3.0 -1.000000 -1.836970e-16  0.717677 -0.696376  250.1   \n",
       "\n",
       "   WIND    DEW      SKY      VIS      ATM  \n",
       "0  36.0  161.1  99999.0  16000.0  10218.1  \n",
       "1  36.0  167.1  99999.0  16000.0  10213.1  \n",
       "2  36.0  106.5  22000.0  16093.0  10131.5  \n",
       "3  57.0  106.5  22000.0  16093.0  10126.5  \n",
       "4  57.0  106.1  22000.0  16000.0  10126.1  "
      ]
     },
     "execution_count": 11,
     "metadata": {},
     "output_type": "execute_result"
    }
   ],
   "source": [
    "X.head()"
   ]
  },
  {
   "cell_type": "code",
   "execution_count": 12,
   "metadata": {},
   "outputs": [
    {
     "data": {
      "text/plain": [
       "array([52.33, 43.76, 11.41, ...,  2.  ,  7.  ,  5.6 ])"
      ]
     },
     "execution_count": 12,
     "metadata": {},
     "output_type": "execute_result"
    }
   ],
   "source": [
    "y"
   ]
  },
  {
   "cell_type": "code",
   "execution_count": 13,
   "metadata": {},
   "outputs": [
    {
     "data": {
      "text/plain": [
       "Good              76202\n",
       "Moderate          19103\n",
       "USG                1220\n",
       "Unhealthy            73\n",
       "Hazardous             9\n",
       "Very unhealthy        5\n",
       "Name: AQI_class, dtype: int64"
      ]
     },
     "execution_count": 13,
     "metadata": {},
     "output_type": "execute_result"
    }
   ],
   "source": [
    "df['AQI_class'].value_counts()"
   ]
  },
  {
   "cell_type": "code",
   "execution_count": 14,
   "metadata": {},
   "outputs": [],
   "source": [
    "from sklearn.pipeline import Pipeline\n",
    "from sklearn.preprocessing import OneHotEncoder, LabelEncoder"
   ]
  },
  {
   "cell_type": "code",
   "execution_count": 21,
   "metadata": {},
   "outputs": [
    {
     "data": {
      "text/plain": [
       "array([11.86119646, 12.73707426, 10.39759421, ...,  8.04417286,\n",
       "       10.13095973,  9.78339228])"
      ]
     },
     "execution_count": 21,
     "metadata": {},
     "output_type": "execute_result"
    }
   ],
   "source": [
    "visualizer = GradientBoostingRegressor()\n",
    "\n",
    "visualizer.fit(X, y)  # Fit the training data to the visualizer\n",
    "visualizer.predict(X)"
   ]
  },
  {
   "cell_type": "markdown",
   "metadata": {},
   "source": [
    "## got the model to predict, figure out how to plot accuracy for continuous target using yellowbrick"
   ]
  },
  {
   "cell_type": "code",
   "execution_count": 15,
   "metadata": {},
   "outputs": [
    {
     "data": {
      "image/png": "[encoded data removed]",
      "text/plain": [
       "<Figure size 1080x720 with 1 Axes>"
      ]
     },
     "metadata": {
      "needs_background": "light"
     },
     "output_type": "display_data"
    },
    {
     "data": {
      "text/plain": [
       "<matplotlib.axes._subplots.AxesSubplot at 0x113895588>"
      ]
     },
     "execution_count": 15,
     "metadata": {},
     "output_type": "execute_result"
    }
   ],
   "source": [
    "from sklearn.model_selection import train_test_split\n",
    "\n",
    "from yellowbrick.regressor import PredictionError\n",
    "\n",
    "# Create the train and test data\n",
    "X_train, X_test, y_train, y_test = train_test_split(\n",
    "    X, y, test_size=0.2, random_state=42\n",
    ")\n",
    "\n",
    "# Instantiate the linear model and visualizer\n",
    "model = GradientBoostingRegressor()\n",
    "visualizer = PredictionError(model, size=(1080, 720))\n",
    "\n",
    "visualizer.fit(X_train, y_train)  # Fit the training data to the visualizer\n",
    "visualizer.score(X_test, y_test)  # Evaluate the model on the test data\n",
    "visualizer.show()"
   ]
  },
  {
   "cell_type": "code",
   "execution_count": null,
   "metadata": {},
   "outputs": [],
   "source": []
  },
  {
   "cell_type": "code",
   "execution_count": null,
   "metadata": {},
   "outputs": [],
   "source": []
  },
  {
   "cell_type": "code",
   "execution_count": null,
   "metadata": {},
   "outputs": [],
   "source": []
  },
  {
   "cell_type": "code",
   "execution_count": null,
   "metadata": {},
   "outputs": [],
   "source": []
  },
  {
   "cell_type": "code",
   "execution_count": null,
   "metadata": {},
   "outputs": [],
   "source": []
  },
  {
   "cell_type": "code",
   "execution_count": null,
   "metadata": {},
   "outputs": [],
   "source": []
  },
  {
   "cell_type": "code",
   "execution_count": null,
   "metadata": {},
   "outputs": [],
   "source": []
  },
  {
   "cell_type": "code",
   "execution_count": null,
   "metadata": {},
   "outputs": [],
   "source": []
  },
  {
   "cell_type": "code",
   "execution_count": null,
   "metadata": {},
   "outputs": [],
   "source": [
    "\n"
   ]
  },
  {
   "cell_type": "code",
   "execution_count": null,
   "metadata": {},
   "outputs": [],
   "source": []
  },
  {
   "cell_type": "code",
   "execution_count": null,
   "metadata": {},
   "outputs": [],
   "source": []
  }
 ],
 "metadata": {
  "kernelspec": {
   "display_name": "Python 3",
   "language": "python",
   "name": "python3"
  },
  "language_info": {
   "codemirror_mode": {
    "name": "ipython",
    "version": 3
   },
   "file_extension": ".py",
   "mimetype": "text/x-python",
   "name": "python",
   "nbconvert_exporter": "python",
   "pygments_lexer": "ipython3",
   "version": "3.7.1"
  }
 },
 "nbformat": 4,
 "nbformat_minor": 2
}
